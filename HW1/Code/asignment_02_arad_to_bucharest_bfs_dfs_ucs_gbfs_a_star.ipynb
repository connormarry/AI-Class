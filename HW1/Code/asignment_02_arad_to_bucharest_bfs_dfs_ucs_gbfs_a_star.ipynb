{
 "cells": [
  {
   "cell_type": "markdown",
   "id": "6054f764",
   "metadata": {
    "deletable": false,
    "editable": false
   },
   "source": [
    "## CSE 4705: Assignment 02 - Arad to Bucharest - BFS, DFS, UCS, GBFS, A* \n"
   ]
  },
  {
   "cell_type": "markdown",
   "id": "1393af5b",
   "metadata": {
    "deletable": false
   },
   "source": [
    "## Problem 1\n",
    "[100] Write a routine that solves the problem of finds a travel path of cities from from Arad to Bucharest in Romania, as discussed in class. Do this using each of the following approaches (points shown in brackets):\n",
    "\n",
    "1. [15] Breadth First Search (BFS)\n",
    "2. [10] Depth First Search (DFS)\n",
    "3. [25] Uniform Cost Search (UCS)\n",
    "4. [25] Greedy Best First Search (GBFS)\n",
    "5. [25] A*\n",
    "\n",
    "\n",
    "You will use the map from Lecture 03 - Informed Search which shows the major cities in Romania and the distances between them for those cities that are directly connected.  Also, you will use the straight-line-distances shown in the adjacent table for your heuristic function, $h(n)$ for GBFS and A*.  A screenshot of the relevant slide is given below.  Data structures that store this information, romania_map and sld_to_bucharest, have been provided so you can access and apply this data in your algorithm implementations.  Details of these data structures are given below.\n",
    "\n",
    "<img src=\"images/romania_cities.png\" width=\"800\" height=\"600\">\n",
    "\n",
    "### Output for Each Routine\n",
    "\n",
    "Each of your routines should return an output or set of outputs that clearly indicates the following:\n",
    "\n",
    "1. The sequence of cities from Arad to Bucharest.  (Make sure the cities, Arad and Bucharest are explicitly listed as the first and last cities in your output.)  One suggestion is to return this output in the form of a list.\n",
    "2. Cost to travel to each city from its predecessor.  \n",
    "3. Total cost for the path.  \n",
    "\n",
    "In the case of A* and Uniform Cost Search, your routines should return the *cheapest path*.  However, that will not necessarily be the case for BFS, DFS, or GBFS.  (Why not?)"
   ]
  },
  {
   "cell_type": "markdown",
   "id": "4bd90c49",
   "metadata": {
    "deletable": false,
    "editable": false
   },
   "source": [
    "### Romania Graph\n",
    "\n",
    "You will use the data structure stored in the romania_map, assigned below to implement the search across the various cities to find a path from Arad to Bucharest.\n",
    "\n",
    "Some details about romania_map:\n",
    "- A dictionary of dictionaries \n",
    "- The outer dictionary is as follows: each key is a city and the value for that city is a nested dictionary of cities to which the said city is directly connected.\n",
    "- The nested dictionary contains the cities to which the parent key is directly connected (keys) and the corresponding distances from the parent city to those respective cities (values).\n",
    "- For example, for the city Oradea, we have a key in the outer dictionary (Oradea), and the associated value is a dictionary containing the Zerind and Sibiu as keys, where for each of these the values are the distances from Oradea to these respective cities.\n",
    "\n"
   ]
  },
  {
   "cell_type": "code",
   "execution_count": 1,
   "id": "2e39553c",
   "metadata": {
    "deletable": false,
    "editable": false
   },
   "outputs": [],
   "source": [
    "\n",
    "romania_map = {\n",
    "    'Oradea':{'Zerind':71, 'Sibiu':151},\n",
    "    'Zerind':{'Oradea':71, 'Arad':75},\n",
    "    'Arad':{'Zerind':75, 'Sibiu':140, 'Timisoara':118},\n",
    "    'Timisoara':{'Arad':118, 'Lugoj':111},\n",
    "    'Lugoj':{'Timisoara':111, 'Mehadia':70},\n",
    "    'Mehadia':{'Lugoj':70, 'Dobreta':75},\n",
    "    'Dobreta':{'Mehadia':75, 'Craiova':120},\n",
    "    'Sibiu':{'Oradea':151, 'Fagaras':99, 'Rimnicu Vilcea':80, 'Arad':140},\n",
    "    'Rimnicu Vilcea':{'Sibiu':80, 'Pitesti':97, 'Craiova':146},\n",
    "    'Craiova':{'Rimnicu Vilcea':146, 'Pitesti':138, 'Dobreta':120},\n",
    "    'Fagaras':{'Sibiu':99, 'Bucharest':211},\n",
    "    'Pitesti':{'Rimnicu Vilcea':97, 'Bucharest':101, 'Craiova':138},\n",
    "    'Neamt':{'Iasi':87},\n",
    "    'Giurgiu':{'Bucharest':90},\n",
    "    'Bucharest':{'Pitesti':101, 'Fagaras':211, 'Urziceni':85, 'Giurgiu':90},\n",
    "    'Iasi':{'Neamt':87, 'Vaslui':92},\n",
    "    'Urziceni':{'Bucharest':85, 'Vaslui':142, 'Hirsova':98},\n",
    "    'Vaslui':{'Iasi':92, 'Urziceni':142},\n",
    "    'Hirsova':{'Urziceni':98, 'Eforie':86},\n",
    "    'Eforie':{'Hirsova':86}\n",
    "}"
   ]
  },
  {
   "cell_type": "markdown",
   "id": "39c843be",
   "metadata": {
    "deletable": false,
    "editable": false
   },
   "source": [
    "### Heuristic Function Data - Straight-Line Distances to Bucharest\n",
    "\n",
    "You will use the dictionary below as your resource for retrieving straight-line distance data for implementing the GBFS and A* algorithms."
   ]
  },
  {
   "cell_type": "code",
   "execution_count": 2,
   "id": "3f8011e4",
   "metadata": {
    "deletable": false,
    "editable": false
   },
   "outputs": [],
   "source": [
    "sld_to_Bucharest = {'Arad':366,\n",
    "                    'Bucharest':0,\n",
    "                    'Craiova':160,\n",
    "                    'Dobreta':242,\n",
    "                    'Eforie':161,\n",
    "                    'Fagaras':176,\n",
    "                    'Giurgiu':77,\n",
    "                    'Hirsova':151,\n",
    "                    'Iasi':226,\n",
    "                    'Lugoj':244,\n",
    "                    'Mehadia':241,\n",
    "                    'Neamt':234,\n",
    "                    'Oradea':380,\n",
    "                    'Pitesti':100,\n",
    "                    'Rimnicu Vilcea':193,\n",
    "                    'Sibiu':253,\n",
    "                    'Timisoara':329,\n",
    "                    'Urziceni':80,\n",
    "                    'Vaslui':199,\n",
    "                    'Zerind':374\n",
    "                   }"
   ]
  },
  {
   "cell_type": "markdown",
   "id": "aaad6190",
   "metadata": {
    "deletable": false,
    "editable": false
   },
   "source": [
    "### 1. BFS Implementation\n",
    "\n",
    "Provide your implementation of the BFS Search below."
   ]
  },
  {
   "cell_type": "code",
   "execution_count": 3,
   "id": "85567d7c",
   "metadata": {},
   "outputs": [
    {
     "name": "stdout",
     "output_type": "stream",
     "text": [
      "BFS Path: ['Arad', 'Sibiu', 'Fagaras', 'Bucharest']\n",
      "Cost to travel to each city: [140, 99, 211]\n",
      "Total cost for the path: 450\n"
     ]
    }
   ],
   "source": [
    "from collections import deque\n",
    "\n",
    "def bfs(graph, start, goal):\n",
    "    queue = deque([(start, [start], 0)])  # (current_node, path, total_cost)\n",
    "    visited = set()\n",
    "\n",
    "    while queue:\n",
    "        current_node, path, total_cost = queue.popleft()\n",
    "\n",
    "        if current_node == goal:\n",
    "            return path, total_cost\n",
    "\n",
    "        if current_node not in visited:\n",
    "            visited.add(current_node)\n",
    "\n",
    "            for neighbor, cost in graph[current_node].items():\n",
    "                new_path = path + [neighbor]\n",
    "                new_total_cost = total_cost + cost\n",
    "                queue.append((neighbor, new_path, new_total_cost))\n",
    "\n",
    "    # If no path is found\n",
    "    return None, None\n",
    "\n",
    "start_city = 'Arad'\n",
    "goal_city = 'Bucharest'\n",
    "bfs_path, bfs_total_cost = bfs(romania_map, start_city, goal_city)\n",
    "\n",
    "print(\"BFS Path:\", bfs_path)\n",
    "print(\"Cost to travel to each city:\", [romania_map[bfs_path[i]][bfs_path[i + 1]] for i in range(len(bfs_path) - 1)])\n",
    "print(\"Total cost for the path:\", bfs_total_cost)\n"
   ]
  },
  {
   "cell_type": "code",
   "execution_count": null,
   "id": "7566e27c",
   "metadata": {},
   "outputs": [],
   "source": []
  },
  {
   "cell_type": "markdown",
   "id": "d7c03e3c",
   "metadata": {
    "deletable": false,
    "editable": false
   },
   "source": [
    "### 2.  DFS Implementation\n",
    "\n",
    "Provide your implementation of the DFS Search below."
   ]
  },
  {
   "cell_type": "code",
   "execution_count": 4,
   "id": "65ee1bf0",
   "metadata": {},
   "outputs": [
    {
     "name": "stdout",
     "output_type": "stream",
     "text": [
      "DFS Path: ['Arad', 'Timisoara', 'Lugoj', 'Mehadia', 'Dobreta', 'Craiova', 'Pitesti', 'Bucharest']\n",
      "Cost to travel to each city: [118, 111, 70, 75, 120, 138, 101]\n",
      "Total cost for the path: 733\n"
     ]
    }
   ],
   "source": [
    "def dfs(graph, start, goal):\n",
    "    stack = [(start, [start], 0)]  # (current_node, path, total_cost)\n",
    "    visited = set()\n",
    "\n",
    "    while stack:\n",
    "        current_node, path, total_cost = stack.pop()\n",
    "\n",
    "        if current_node == goal:\n",
    "            return path, total_cost\n",
    "\n",
    "        if current_node not in visited:\n",
    "            visited.add(current_node)\n",
    "\n",
    "            for neighbor, cost in graph[current_node].items():\n",
    "                new_path = path + [neighbor]\n",
    "                new_total_cost = total_cost + cost\n",
    "                stack.append((neighbor, new_path, new_total_cost))\n",
    "\n",
    "    # If no path is found\n",
    "    return None, None\n",
    "\n",
    "dfs_path, dfs_total_cost = dfs(romania_map, start_city, goal_city)\n",
    "\n",
    "print(\"DFS Path:\", dfs_path)\n",
    "print(\"Cost to travel to each city:\", [romania_map[dfs_path[i]][dfs_path[i + 1]] for i in range(len(dfs_path) - 1)])\n",
    "print(\"Total cost for the path:\", dfs_total_cost)\n"
   ]
  },
  {
   "cell_type": "code",
   "execution_count": null,
   "id": "73611d75",
   "metadata": {},
   "outputs": [],
   "source": []
  },
  {
   "cell_type": "code",
   "execution_count": null,
   "id": "457ce670",
   "metadata": {},
   "outputs": [],
   "source": []
  },
  {
   "cell_type": "code",
   "execution_count": null,
   "id": "dbbc387a",
   "metadata": {},
   "outputs": [],
   "source": []
  },
  {
   "cell_type": "code",
   "execution_count": null,
   "id": "34e59656",
   "metadata": {},
   "outputs": [],
   "source": []
  },
  {
   "cell_type": "markdown",
   "id": "96b855a1",
   "metadata": {
    "deletable": false,
    "editable": false
   },
   "source": [
    "### 3. UCS Implementation\n",
    "\n",
    "Provide your implementation of the UCS Search below."
   ]
  },
  {
   "cell_type": "code",
   "execution_count": 5,
   "id": "8c5be3b0",
   "metadata": {},
   "outputs": [
    {
     "name": "stdout",
     "output_type": "stream",
     "text": [
      "UCS Path: ['Arad', 'Sibiu', 'Rimnicu Vilcea', 'Pitesti', 'Bucharest']\n",
      "Cost to travel to each city: [140, 80, 97, 101]\n",
      "Total cost for the path: 418\n"
     ]
    }
   ],
   "source": [
    "import heapq\n",
    "\n",
    "def ucs(graph, start, goal):\n",
    "    priority_queue = [(0, start, [start])]  # (total_cost, current_node, path)\n",
    "    visited = set()\n",
    "\n",
    "    while priority_queue:\n",
    "        total_cost, current_node, path = heapq.heappop(priority_queue)\n",
    "\n",
    "        if current_node == goal:\n",
    "            return path, total_cost\n",
    "\n",
    "        if current_node not in visited:\n",
    "            visited.add(current_node)\n",
    "\n",
    "            for neighbor, cost in graph[current_node].items():\n",
    "                new_path = path + [neighbor]\n",
    "                new_total_cost = total_cost + cost\n",
    "                heapq.heappush(priority_queue, (new_total_cost, neighbor, new_path))\n",
    "\n",
    "    # If no path is found\n",
    "    return None, None\n",
    "\n",
    "ucs_path, ucs_total_cost = ucs(romania_map, start_city, goal_city)\n",
    "\n",
    "print(\"UCS Path:\", ucs_path)\n",
    "print(\"Cost to travel to each city:\", [romania_map[ucs_path[i]][ucs_path[i + 1]] for i in range(len(ucs_path) - 1)])\n",
    "print(\"Total cost for the path:\", ucs_total_cost)\n"
   ]
  },
  {
   "cell_type": "code",
   "execution_count": null,
   "id": "380ce651",
   "metadata": {},
   "outputs": [],
   "source": []
  },
  {
   "cell_type": "code",
   "execution_count": null,
   "id": "8b805705",
   "metadata": {},
   "outputs": [],
   "source": []
  },
  {
   "cell_type": "code",
   "execution_count": null,
   "id": "bc33a3d7",
   "metadata": {},
   "outputs": [],
   "source": []
  },
  {
   "cell_type": "code",
   "execution_count": null,
   "id": "5a055202",
   "metadata": {},
   "outputs": [],
   "source": []
  },
  {
   "cell_type": "markdown",
   "id": "482eb6c4",
   "metadata": {
    "deletable": false,
    "editable": false
   },
   "source": [
    "### 4. GBFS Implementation\n",
    "\n",
    "Provide your implementation of the GBFS Search below."
   ]
  },
  {
   "cell_type": "code",
   "execution_count": 6,
   "id": "6abab9d3",
   "metadata": {},
   "outputs": [
    {
     "name": "stdout",
     "output_type": "stream",
     "text": [
      "GBFS Path: ['Arad', 'Sibiu', 'Fagaras', 'Bucharest']\n",
      "Actual cost for each city: [140, 99, 211]\n",
      "Total actual cost for the path: 450\n"
     ]
    }
   ],
   "source": [
    "def gbfs(graph, heuristic, start, goal):\n",
    "    priority_queue = [(heuristic[start], 0, start, [start])]  # (heuristic_cost, actual_cost, current_node, path)\n",
    "    visited = set()\n",
    "\n",
    "    while priority_queue:\n",
    "        heuristic_cost, actual_cost, current_node, path = priority_queue.pop(0)\n",
    "\n",
    "        if current_node == goal:\n",
    "            return path, actual_cost\n",
    "\n",
    "        if current_node not in visited:\n",
    "            visited.add(current_node)\n",
    "\n",
    "            neighbors = graph[current_node]\n",
    "            neighbors_with_costs = [(neighbor, cost) for neighbor, cost in neighbors.items()]\n",
    "            neighbors_with_costs.sort(key=lambda x: heuristic[x[0]])\n",
    "\n",
    "            for neighbor, cost in neighbors_with_costs:\n",
    "                new_path = path + [neighbor]\n",
    "                new_heuristic_cost = heuristic[neighbor]\n",
    "                priority_queue.append((new_heuristic_cost, actual_cost + cost, neighbor, new_path))\n",
    "\n",
    "    # If no path is found\n",
    "    return None, None\n",
    "\n",
    "\n",
    "gbfs_path, gbfs_actual_cost = gbfs(romania_map, sld_to_Bucharest, start_city, goal_city)\n",
    "\n",
    "print(\"GBFS Path:\", gbfs_path)\n",
    "print(\"Actual cost for each city:\", [romania_map[gbfs_path[i]][gbfs_path[i + 1]] for i in range(len(gbfs_path) - 1)])\n",
    "print(\"Total actual cost for the path:\", gbfs_actual_cost)\n"
   ]
  },
  {
   "cell_type": "code",
   "execution_count": null,
   "id": "3638eb80",
   "metadata": {},
   "outputs": [],
   "source": []
  },
  {
   "cell_type": "code",
   "execution_count": null,
   "id": "72645e66",
   "metadata": {},
   "outputs": [],
   "source": []
  },
  {
   "cell_type": "code",
   "execution_count": null,
   "id": "ffce40f3",
   "metadata": {},
   "outputs": [],
   "source": []
  },
  {
   "cell_type": "code",
   "execution_count": null,
   "id": "76f96c44",
   "metadata": {},
   "outputs": [],
   "source": []
  },
  {
   "cell_type": "markdown",
   "id": "18423249",
   "metadata": {
    "deletable": false,
    "editable": false
   },
   "source": [
    "### 5. A* Implementation\n",
    "\n",
    "Provide your implementation of the A* Algorithm below."
   ]
  },
  {
   "cell_type": "code",
   "execution_count": 7,
   "id": "2647730d",
   "metadata": {},
   "outputs": [
    {
     "name": "stdout",
     "output_type": "stream",
     "text": [
      "A* Path: ['Arad', 'Sibiu', 'Rimnicu Vilcea', 'Pitesti', 'Bucharest']\n",
      "Actual cost for each city: [140, 80, 97, 101]\n",
      "Total cost for the path: 418\n"
     ]
    }
   ],
   "source": [
    "import heapq\n",
    "\n",
    "def astar(graph, heuristic, start, goal):\n",
    "    priority_queue = [(heuristic[start], 0, start, [start])]  # (heuristic_cost + actual_cost, actual_cost, current_node, path)\n",
    "    visited = set()\n",
    "\n",
    "    while priority_queue:\n",
    "        _, actual_cost, current_node, path = heapq.heappop(priority_queue)\n",
    "\n",
    "        if current_node == goal:\n",
    "            return path, actual_cost\n",
    "\n",
    "        if current_node not in visited:\n",
    "            visited.add(current_node)\n",
    "\n",
    "            neighbors = graph[current_node]\n",
    "            neighbors_with_costs = [(neighbor, cost) for neighbor, cost in neighbors.items()]\n",
    "            neighbors_with_costs.sort(key=lambda x: heuristic[x[0]])\n",
    "\n",
    "            for neighbor, cost in neighbors_with_costs:\n",
    "                new_path = path + [neighbor]\n",
    "                new_actual_cost = actual_cost + cost\n",
    "                heuristic_cost = heuristic[neighbor]\n",
    "                total_cost = new_actual_cost + heuristic_cost\n",
    "                heapq.heappush(priority_queue, (total_cost, new_actual_cost, neighbor, new_path))\n",
    "\n",
    "    # If no path is found\n",
    "    return None, None\n",
    "\n",
    "astar_path, astar_actual_cost = astar(romania_map, sld_to_Bucharest, start_city, goal_city)\n",
    "\n",
    "print(\"A* Path:\", astar_path)\n",
    "print(\"Actual cost for each city:\", [romania_map[astar_path[i]][astar_path[i + 1]] for i in range(len(astar_path) - 1)])\n",
    "print(\"Total cost for the path:\", astar_actual_cost)\n"
   ]
  },
  {
   "cell_type": "code",
   "execution_count": null,
   "id": "f507d40e",
   "metadata": {},
   "outputs": [],
   "source": []
  },
  {
   "cell_type": "code",
   "execution_count": null,
   "id": "18e84dcf",
   "metadata": {},
   "outputs": [],
   "source": []
  },
  {
   "cell_type": "code",
   "execution_count": null,
   "id": "79b9b9bb",
   "metadata": {},
   "outputs": [],
   "source": []
  },
  {
   "cell_type": "code",
   "execution_count": null,
   "id": "979e3987",
   "metadata": {},
   "outputs": [],
   "source": []
  }
 ],
 "metadata": {
  "kernelspec": {
   "display_name": "Python 3 (ipykernel)",
   "language": "python",
   "name": "python3"
  },
  "language_info": {
   "codemirror_mode": {
    "name": "ipython",
    "version": 3
   },
   "file_extension": ".py",
   "mimetype": "text/x-python",
   "name": "python",
   "nbconvert_exporter": "python",
   "pygments_lexer": "ipython3",
   "version": "3.9.16"
  }
 },
 "nbformat": 4,
 "nbformat_minor": 5
}
