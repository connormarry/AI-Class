{
 "cells": [
  {
   "cell_type": "markdown",
   "metadata": {},
   "source": [
    "<a name=\"0\"></a>\n",
    "# CSE 4705: Assignment 03 - Local Search - 8-queens - Part 1\n",
    "\n",
    "In this lab you will:\n",
    "- Implement various local search algorithms that we've discussed in class, including:\n",
    "\n",
    "1.  Steepest ascent hill climbing\n",
    "2.  Stochastic hill climbing\n",
    "3.  First choice hill climbing \n",
    "4.  Random restart hill climbing.\n",
    "\n",
    "# Outline\n",
    "- [ 0 - Assignment ](#0)\n",
    "- [_0.1 - Problem Statement](#0.1)\n",
    "- [_0.2 - Objective Function - Number of Attacking Pairs](#0.2)\n",
    "- [_0.3 - Queens Assignment Representation](#0.3)\n",
    "- [ 1 - Problem 1 - Steepest Ascent Hill Climbing ](#1)\n",
    "- [_1.1 - Exercise - Function Implementation - Count attacking pairs for a given queens assignment](#1.1)\n",
    "- [_1.2 - Exercise - Function Implementation - Count attacking pairs for successors of queens assignment](#1.2)\n",
    "- [_1.3 - Exercise - Function Implementation - Steepest Ascent Hill Climb](#1.3)\n",
    "- [ 2 - Problem 2 - Stochastic Hill Climbing ](#2)\n",
    "- [_2.1 - Exercise - Function Implementation - Probability distribution based on queens assignment](#2.1)\n",
    "- [_2.2 - Exercise - Function Implementation - Stochastic Hill Climbing](#2.2)\n",
    "- [ 3 - Problem 3 - First Choice Hill Climbing ](#3)\n",
    "- [_3.1 - Exercise - Function Implementation - First choice](#3.1)\n",
    "- [_3.2 - Exercise - Function Implementation - First choice hill climbing](#3.2)\n",
    "- [ 4 - Problem 4 - Random Restart Hill Climbing ](#4)\n",
    "- [_4.1 - Exercise - Function Implementation - Random Restart Hill Climbing](#4.1)\n",
    "- [5 - Congratulations!](#5)\n"
   ]
  },
  {
   "cell_type": "markdown",
   "metadata": {},
   "source": [
    "<a name=\"0.1\"></a>\n",
    "##  0.1 Problem Statement\n",
    "\n",
    "In this assignment you will implement a number of local search algorithms for solving the n-queens problem.  As we discussed in class, this problem consists of determining how to arrange queen pieces on an n x n chess board so that no two queens are attacking each other.  The diagram below shows one of a number of successful arrangmeents of queens on an 8 x 8 chess board:\n",
    "\n",
    "<img src=\"images/eight_queens.png\" width=\"400\" height=\"400\">\n",
    "\n",
    "Your algorithms will start with a random arrangement of queens on the board, and then will utilize the algorithms to approach, or hopefully, successfully find, a goal state in which no two queens are attacking each other.\n",
    "\n",
    "The algorithms you will implement include the following:\n",
    "\n",
    "1.  [25 points] Hill Climbing (Steepest Ascent)\n",
    "2.  [30 points] Stochastic Hill Climbing\n",
    "3.  [30 points] First Choice Hill Climbing\n",
    "4.  [15 points] Random Restart Hill Climbing\n",
    "\n",
    "<a name=\"0.2\"></a>\n",
    "## 0.2 Objective Function - Number of Attacking Pairs\n",
    "\n",
    "As discussed in class, a commonly used metric for the objective function for the 8-queens problem is the number of pairs of attacking queens for a given 8-queens assignment (i.e., 8-queens arrangement on the board).  The goal state is a queens assignment for which attack pairs = 0.\n",
    "\n",
    "In the slide deck from Lecture 04 - Local Search, there is a calculation for the attack pairs metric for the given queens assignment for each square on the board, as shown below.  We'll discuss this example in more detail a bit later.\n",
    "\n",
    "<img src=\"images/attacking_pairs.png\" width=\"700\" height=\"700\">\n",
    "\n",
    "You will use the attack pairs metric for guiding the search in your algorithm implementations.\n",
    "\n",
    "<a name=\"0.3\"></a>\n",
    "## 0.3 Queens Assignment Representation\n",
    "\n",
    "You will use a numpy array to represent the assignment of a set of locations for queens on the chess board.  It will take on a form consistent with the following example:\n",
    "\n",
    "$$ \\text{queens} = \\text{ndarray([3, 2, 1, 4, 3, 2, 1, 2])}  $$\n",
    "\n",
    "This numpy array indicates the row position for each queen located in each of the 8 columns on the board.  Note that the row indices are 0-based.  So, the bottom row is indicated with a 0, the second row from the bottom by a 1, and so on up through top row indicated by a 7.\n",
    "\n",
    "The example above gives the representation for the arrangement of queens in the image above.  That is, queens[0] = 3 indicates the queen in the first column is in the fourth row.  Meanwhile, queens[1] = 2 indicates the queen in the second column is in the third row.  This same reasoning follows for the rest of the 8 queens in the array.\n"
   ]
  },
  {
   "cell_type": "code",
   "execution_count": 1,
   "metadata": {
    "ExecuteTime": {
     "end_time": "2024-02-23T20:31:23.537005Z",
     "start_time": "2024-02-23T20:31:21.923228Z"
    }
   },
   "outputs": [],
   "source": [
    "import pandas as pd\n",
    "import numpy as np\n",
    "from random import choices\n",
    "from queue import PriorityQueue"
   ]
  },
  {
   "cell_type": "markdown",
   "metadata": {
    "deletable": false,
    "editable": false
   },
   "source": [
    "<a name=\"1\"></a>\n",
    "## 1 - Steepest Ascent Hill Climbing\n",
    "\n",
    "[25 points]\n",
    "\n",
    "You will implement the steepest ascent hill climbing algorithm in the cells below."
   ]
  },
  {
   "cell_type": "markdown",
   "metadata": {
    "deletable": false,
    "editable": false
   },
   "source": [
    "<a name=\"1.1\"></a>\n",
    "### 1.1 Exercise - Function Implementation - Count attacking pairs for a given queens assignment\n",
    "\n",
    "[10 points]\n",
    "\n",
    "Below, the attack_paris() function is intended to return the number of pairs of queens attacking each other for a given queens assignment, passed in as an input argument, in the form of an numpy array (as described in section 0.3.  \n",
    "\n",
    "Implement this function according to the specs given for the function.  \n",
    "\n",
    "There are some simple (but not comprehensive) unit tests after the function to indicate whether you are on the right track."
   ]
  },
  {
   "cell_type": "code",
   "execution_count": 2,
   "metadata": {
    "ExecuteTime": {
     "end_time": "2024-02-23T21:03:30.880852Z",
     "start_time": "2024-02-23T21:03:30.862755Z"
    }
   },
   "outputs": [],
   "source": [
    "def attack_pairs(queens):\n",
    "    \"\"\"\n",
    "    computes number of pairs of attacking queens\n",
    "    Args:\n",
    "      queens (ndarray (n, ))  : represents the assignment of queens on the board.  n = 8 for the 8-queens problem.\n",
    "    Returns\n",
    "      attack_pairs scaler     : number of pairs of attacking queens for the given queens assignment on the board.\n",
    "    \"\"\"\n",
    "    attack_pairs = 0\n",
    "\n",
    "    \n",
    "    ### START CODE HERE\n",
    "    \n",
    "   \n",
    "    #loop through each column and row\n",
    "    n = len(queens)\n",
    "    \n",
    "    for i in range(n):\n",
    "        for j in range(i + 1, n):\n",
    "            if queens[i] == queens[j] or abs(queens[i] - queens[j]) == abs(i - j):\n",
    "                attack_pairs += 1\n",
    "    \n",
    "    return attack_pairs"
   ]
  },
  {
   "cell_type": "code",
   "execution_count": 3,
   "metadata": {
    "ExecuteTime": {
     "end_time": "2024-02-23T21:03:33.055609Z",
     "start_time": "2024-02-23T21:03:33.035545Z"
    },
    "deletable": false,
    "editable": false
   },
   "outputs": [
    {
     "name": "stdout",
     "output_type": "stream",
     "text": [
      "number of attacking pairs for [3, 2, 1, 4, 3, 2, 1, 2]: 17\n"
     ]
    }
   ],
   "source": [
    "# UNIT TEST 1 - attack_pairs()\n",
    "\n",
    "queens = np.array([3, 2, 1, 4, 3, 2, 1, 2])\n",
    "ap = attack_pairs(queens)\n",
    "\n",
    "print(f'number of attacking pairs for [3, 2, 1, 4, 3, 2, 1, 2]: {ap}')"
   ]
  },
  {
   "cell_type": "markdown",
   "metadata": {
    "deletable": false,
    "editable": false
   },
   "source": [
    "**Expected Reult:** number of attacking pairs for [3, 2, 1, 4, 3, 2, 1, 2]: 17"
   ]
  },
  {
   "cell_type": "code",
   "execution_count": 4,
   "metadata": {
    "ExecuteTime": {
     "end_time": "2024-02-23T21:19:06.915684Z",
     "start_time": "2024-02-23T21:19:06.896294Z"
    },
    "deletable": false,
    "editable": false,
    "scrolled": true
   },
   "outputs": [
    {
     "name": "stdout",
     "output_type": "stream",
     "text": [
      "number of attacking pairs for [0, 2, 1, 4, 3, 2, 1, 2]: 14\n"
     ]
    }
   ],
   "source": [
    "# UNIT TEST 2 - attack_pairs()\n",
    "\n",
    "queens = np.array([0, 2, 1, 4, 3, 2, 1, 2])\n",
    "ap = attack_pairs(queens)\n",
    "\n",
    "print(f'number of attacking pairs for [0, 2, 1, 4, 3, 2, 1, 2]: {ap}')"
   ]
  },
  {
   "cell_type": "markdown",
   "metadata": {
    "deletable": false,
    "editable": false
   },
   "source": [
    "**Expected Reult:** number of attacking pairs for [0, 2, 1, 4, 3, 2, 1, 2]: 14"
   ]
  },
  {
   "cell_type": "markdown",
   "metadata": {
    "deletable": false,
    "editable": false
   },
   "source": [
    "<a name=\"1.2\"></a>\n",
    "### 1.2 Exercise - Function Implementation - Count attacking pairs for successors of queens assignment\n",
    "\n",
    "[5 points]\n",
    "\n",
    "The attack_paris_board() function computes the number of pairs of queens attacking each other when you've moved one queen in one column to a different row within the same column.  (Moves of queens within their same columns are what constitutes successors for the purposes of our approach.)\n",
    "\n",
    "Refer to our example:\n",
    "\n",
    "<img src=\"images/attacking_pairs.png\" width=\"700\" height=\"700\">\n",
    "\n",
    "This diagram shows, for example, that if we move the queen in the first column from the 3rd row (from the bottom) to the 4th row, the number of attacking pairs will change from its current value of 17 to 15.  On the other hand, as an another example, if we move the queen in the third column from its current position in the 2nd row to the top row, the number of pairs of attacking queen changes from 17 to 12. \n",
    "\n",
    "So, attack_pairs_board() computes all of these numbers and returns them in the form of an n x n Numpy array.  \n",
    "\n",
    "Implement the function in the space provided.  **You should make use of the attack_pairs() function you implemented, above, in your code for this function.**\n",
    "\n",
    "The unit test below will help you determine whether your implementation is on the right track.\n"
   ]
  },
  {
   "cell_type": "code",
   "execution_count": 5,
   "metadata": {
    "ExecuteTime": {
     "end_time": "2024-02-23T21:19:10.845706Z",
     "start_time": "2024-02-23T21:19:10.829764Z"
    }
   },
   "outputs": [],
   "source": [
    "def attack_pairs_board(queens):\n",
    "    \"\"\"\n",
    "    computes the number of pairs of attacking queens for each successor queen assignment to the one passed in as an \n",
    "    input argument.\n",
    "    Args:\n",
    "      queens (ndarray (n, ))   : represents the assignment of queens on the board.  n = 8 for the 8-queens problem.\n",
    "    Returns\n",
    "      counts (ndarray (n, n))  : number of pairs of attacking queens for when the queen of each column is moved from \n",
    "                                 its current row to the row of each respective cell.  \n",
    "    \"\"\"\n",
    "    \n",
    "    n = len(queens)\n",
    "    counts = np.zeros((n, n), dtype=float)\n",
    "    \n",
    "    \n",
    "    ### START CODE HERE\n",
    "\n",
    "    for col in range(n):\n",
    "        for row in range(n):\n",
    "            if row != queens[col]:\n",
    "                new_queens = np.copy(queens)\n",
    "                new_queens[col] = row\n",
    "                counts[row, col] = attack_pairs(new_queens)\n",
    "            else:\n",
    "                counts[row, col] = attack_pairs(queens)\n",
    "    \n",
    "    return counts\n",
    "    \n",
    "            \n",
    "    ### END CODE HERE  "
   ]
  },
  {
   "cell_type": "code",
   "execution_count": 6,
   "metadata": {
    "ExecuteTime": {
     "end_time": "2024-02-23T21:19:13.336825Z",
     "start_time": "2024-02-23T21:19:13.321475Z"
    },
    "deletable": false,
    "editable": false
   },
   "outputs": [
    {
     "name": "stdout",
     "output_type": "stream",
     "text": [
      "successors attacking pairs for [3, 2, 1, 4, 3, 2, 1, 2]: \n",
      "\n",
      "[[14. 14. 13. 17. 12. 14. 12. 18.]\n",
      " [18. 14. 17. 15. 15. 14. 17. 16.]\n",
      " [17. 17. 16. 18. 15. 17. 15. 17.]\n",
      " [17. 14. 17. 15. 17. 14. 16. 16.]\n",
      " [15. 14. 14. 17. 13. 16. 13. 16.]\n",
      " [14. 12. 18. 13. 15. 12. 14. 14.]\n",
      " [14. 16. 13. 15. 12. 14. 12. 16.]\n",
      " [18. 12. 14. 13. 13. 12. 14. 14.]]\n"
     ]
    }
   ],
   "source": [
    "# UNIT TEST 1 - attack_pairs_board()\n",
    "\n",
    "queens = np.array([3, 2, 1, 4, 3, 2, 1, 2])\n",
    "ap_board = attack_pairs_board(queens)\n",
    "\n",
    "print(f'successors attacking pairs for [3, 2, 1, 4, 3, 2, 1, 2]: \\n\\n{ap_board}')"
   ]
  },
  {
   "cell_type": "markdown",
   "metadata": {
    "deletable": false,
    "editable": false
   },
   "source": [
    "**Expected Reult:**\n",
    "\n",
    "successors attacking pairs for [3, 2, 1, 4, 3, 2, 1, 2]: \n",
    "\n",
    "[[14. 14. 13. 17. 12. 14. 12. 18.] <br>\n",
    " [18. 14. 17. 15. 15. 14. 17. 16.] <br>\n",
    " [17. 17. 16. 18. 15. 17. 15. 17.] <br>\n",
    " [17. 14. 17. 15. 17. 14. 16. 16.] <br>\n",
    " [15. 14. 14. 17. 13. 16. 13. 16.] <br>\n",
    " [14. 12. 18. 13. 15. 12. 14. 14.] <br>\n",
    " [14. 16. 13. 15. 12. 14. 12. 16.] <br>\n",
    " [18. 12. 14. 13. 13. 12. 14. 14.]]"
   ]
  },
  {
   "cell_type": "code",
   "execution_count": 7,
   "metadata": {
    "ExecuteTime": {
     "end_time": "2024-02-23T21:03:56.655771Z",
     "start_time": "2024-02-23T21:03:56.643135Z"
    },
    "deletable": false,
    "editable": false
   },
   "outputs": [
    {
     "name": "stdout",
     "output_type": "stream",
     "text": [
      "successors attacking pairs for [0, 2, 1, 4, 3, 2, 1, 2]: \n",
      "\n",
      "[[14. 13. 12. 14. 11. 12. 10. 16.]\n",
      " [18. 13. 14. 12. 13. 11. 14. 13.]\n",
      " [17. 14. 15. 15. 13. 14. 12. 14.]\n",
      " [17. 11. 14. 12. 14. 10. 12. 12.]\n",
      " [15. 11. 12. 14. 12. 13. 10. 13.]\n",
      " [14. 10. 15. 10. 13. 10. 11. 11.]\n",
      " [14. 14. 11. 11. 10. 11. 10. 13.]\n",
      " [18. 10. 12. 10. 10.  9. 11. 12.]]\n"
     ]
    }
   ],
   "source": [
    "# UNIT TEST 2 - attack_pairs_board()\n",
    "\n",
    "queens = np.array([0, 2, 1, 4, 3, 2, 1, 2])\n",
    "ap_board = attack_pairs_board(queens)\n",
    "\n",
    "print(f'successors attacking pairs for [0, 2, 1, 4, 3, 2, 1, 2]: \\n\\n{ap_board}')"
   ]
  },
  {
   "cell_type": "markdown",
   "metadata": {
    "deletable": false,
    "editable": false
   },
   "source": [
    "**Expected Reult:**\n",
    "\n",
    "successors attacking pairs for [0, 2, 1, 4, 3, 2, 1, 2]: \n",
    "\n",
    "[[14. 13. 12. 14. 11. 12. 10. 16.] <br>\n",
    " [18. 13. 14. 12. 13. 11. 14. 13.] <br>\n",
    " [17. 14. 15. 15. 13. 14. 12. 14.] <br>\n",
    " [17. 11. 14. 12. 14. 10. 12. 12.] <br>\n",
    " [15. 11. 12. 14. 12. 13. 10. 13.] <br>\n",
    " [14. 10. 15. 10. 13. 10. 11. 11.] <br>\n",
    " [14. 14. 11. 11. 10. 11. 10. 13.] <br>\n",
    " [18. 10. 12. 10. 10.  9. 11. 12.]] "
   ]
  },
  {
   "cell_type": "markdown",
   "metadata": {
    "deletable": false,
    "editable": false
   },
   "source": [
    "<a name=\"1.3\"></a>\n",
    "### 1.3 Exercise - Function Implementation - Steepest Ascent Hill Climb\n",
    "\n",
    "[10 points]\n",
    "\n",
    "The steepest_ascent_hill_climb() function implements the algorithm after which it was named, where at each state it moves to an adjacent state offering a minimum value of attacking pairs among the set of successors.  \n",
    "\n",
    "**You should make use of the attack_pairs_board() function above in your logic for choosing a successor state and for determining whether you've reached a local minimum.**"
   ]
  },
  {
   "cell_type": "code",
   "execution_count": 8,
   "metadata": {
    "ExecuteTime": {
     "end_time": "2024-02-23T21:16:11.233726Z",
     "start_time": "2024-02-23T21:16:11.211889Z"
    }
   },
   "outputs": [],
   "source": [
    "def steepest_ascent_hill_climb(n):\n",
    "    \"\"\"\n",
    "    performs a steepest ascent hill climb toward a goal state of a queens assignment (represented in the form of a \n",
    "    Numpy array of size (n, )) in which there are no pairs of queens attacking each other.  Not every execution\n",
    "    of this function will result in a success - often a local optimum will be reached (i.e., a local min in which\n",
    "    the number of attacking pairs is > 0, but no neighbors offer any improvement.\n",
    "     \n",
    "    Args:\n",
    "      n (scalar))                     : dimension of the board.  For 8-queens, n = 8 (but we could use this to \n",
    "                                        solve say, 10-queens)\n",
    "    Returns\n",
    "      current_attack_pairs (scalar)   : count of attacking pairs of the local optimum it found (0 if goal state found)\n",
    "      queens (ndarray (n, ))          : locally optimum queens assignment, or, if attack pairs = 0, a globally optimum \n",
    "                                        assignment\n",
    "    \"\"\"\n",
    "    \n",
    "    # start with a random assignment of queens on the board.\n",
    "    queens = np.random.randint(n, size=n)\n",
    "    \n",
    "    ### START CODE HERE\n",
    "    current_attack_pairs = attack_pairs(queens)\n",
    "    \n",
    "    while current_attack_pairs > 0:\n",
    "        counts = attack_pairs_board(queens)\n",
    "        best_row = None\n",
    "        best_col = None\n",
    "        best_attack_pairs = current_attack_pairs\n",
    "            \n",
    "        for col in range(n):\n",
    "            for row in range(n):\n",
    "                if counts[row, col] < best_attack_pairs:\n",
    "                    best_attack_pairs = counts[row, col]\n",
    "                    best_row = row\n",
    "                    best_col = col\n",
    "                    \n",
    "        if best_attack_pairs >= current_attack_pairs:\n",
    "            break\n",
    "\n",
    "        queens[best_col] = best_row\n",
    "        current_attack_pairs = best_attack_pairs\n",
    "        \n",
    "\n",
    "    return current_attack_pairs, queens\n",
    "    \n",
    "    ### END CODE HERE\n",
    "        \n",
    "        "
   ]
  },
  {
   "cell_type": "code",
   "execution_count": 9,
   "metadata": {
    "ExecuteTime": {
     "end_time": "2024-02-23T21:16:14.054681Z",
     "start_time": "2024-02-23T21:16:13.334746Z"
    },
    "deletable": false,
    "editable": false
   },
   "outputs": [
    {
     "name": "stdout",
     "output_type": "stream",
     "text": [
      "Success: [4 1 3 6 2 7 5 0]\n",
      "Success: [4 0 7 5 2 6 1 3]\n",
      "Success: [3 6 4 1 5 0 2 7]\n",
      "Success: [2 5 7 0 3 6 4 1]\n",
      "Success: [3 5 0 4 1 7 2 6]\n",
      "Success: [1 3 5 7 2 0 6 4]\n",
      "Success: [6 3 1 4 7 0 2 5]\n",
      "Success: [2 5 3 1 7 4 6 0]\n",
      "Success: [6 4 2 0 5 7 1 3]\n",
      "Success: [6 2 7 1 4 0 5 3]\n",
      "Success: [3 5 7 1 6 0 2 4]\n",
      "Success: [3 1 4 7 5 0 2 6]\n",
      "\n",
      "Number of successes: 12\n"
     ]
    }
   ],
   "source": [
    "# UNIT TEST 1 - steepest_ascent_hill_climb()\n",
    "\n",
    "# This test runs steepest ascent 100 times, giving us the chance to to observe the frequency with which \n",
    "# it arrives at a solution for 100 randomly chosen starting queen assignments.  We know from the literature \n",
    "# that the overall average is about 14%.\n",
    "\n",
    "np.random.seed(0)  # reset seed to produce the same set of starting queen assignments with every execution\n",
    "\n",
    "num_successes = 0\n",
    "for i in range(100):\n",
    "    attack_pairs_count, queens = steepest_ascent_hill_climb(8)\n",
    "    if attack_pairs_count == 0:\n",
    "        print(f'Success: {queens}')\n",
    "        num_successes += 1\n",
    "        \n",
    "print(f'\\nNumber of successes: {num_successes}')"
   ]
  },
  {
   "cell_type": "markdown",
   "metadata": {
    "deletable": false,
    "editable": false
   },
   "source": [
    "**Expected Result:**\n",
    "\n",
    "Success: [6 0 2 7 5 3 1 4] <br>\n",
    "Success: [2 6 1 7 5 3 0 4] <br>\n",
    "Success: [4 1 3 6 2 7 5 0] <br>\n",
    "Success: [4 0 7 5 2 6 1 3] <br>\n",
    "Success: [3 7 4 2 0 6 1 5] <br>\n",
    "Success: [3 5 0 4 1 7 2 6] <br>\n",
    "Success: [1 3 5 7 2 0 6 4] <br>\n",
    "Success: [2 5 3 1 7 4 6 0] <br>\n",
    "Success: [6 4 2 0 5 7 1 3] <br>\n",
    "Success: [6 2 7 1 4 0 5 3] <br>\n",
    "Success: [3 5 7 1 6 0 2 4] <br>\n",
    "Success: [3 1 4 7 5 0 2 6] <br> <br>\n",
    "Number of successes: 12"
   ]
  },
  {
   "cell_type": "markdown",
   "metadata": {
    "deletable": false,
    "editable": false
   },
   "source": [
    "<a name=\"2\"></a>\n",
    "## 2 - Stochastic Hill Climbing\n",
    "\n",
    "[30 points]\n",
    "\n",
    "You will implement the stochastic hill climbing algorithm in the cells below."
   ]
  },
  {
   "cell_type": "markdown",
   "metadata": {
    "deletable": false,
    "editable": false
   },
   "source": [
    "<a name=\"2.1\"></a>\n",
    "### 2.1 Exercise - Function Implementation - Probability distribution based on queens assignment\n",
    "\n",
    "[10 points]\n",
    "\n",
    "Stochastic hill climbing involves selecting successors from a probability distribution instead of picking the one that has the largest improvement in the objective function. Therefore, in order to implement this technique, we need to build a function that returns a probability distribution upon which our selection of a state's successor will be based.\n",
    "\n",
    "The probability distribution will be developed using the following approach:\n",
    "\n",
    "1.  Determine the maximum number of attacking pairs possible for a set of n queens on a board.  From you days in \n",
    "CSE 2500 you may recall that this is n \"choose\" 2, that is:\n",
    "\n",
    "$$\\text{worst case attack pairs count} = {n \\choose 2} = \\frac{n (n-1)}{2}$$\n",
    "\n",
    "2.  Determine the fitness for each successor cell on the board according to the following formula:\n",
    "\n",
    "$$ \\text{successors_fitness} = \\text{worst case attack pairs count} - \\text{successors_counts}$$\n",
    "\n",
    "You should use the attack_pairs_board() function you developed above to find the array of successors counts values for all the cells on the board, for a given queens assignment.  \n",
    "\n",
    "This formula will be applied to every cell on the board, to each respective successor count.  For example, for an 8-queens instance, you should have an 8 x 8 array of successor count values (from calling attack_pairs_board()) to which you should broadcast the fitness calculation above to get an 8 x 8 grid of successor_fitness values.\n",
    "\n",
    "3.  Scale the successor_fitness array with an constant, $k$, that prescribes the ratio of the max fitness value over the min fitness value, that is:\n",
    "\n",
    "$$k = \\text{max(successors_fitness)} / \\text{min(successors_fitness)}$$\n",
    "\n",
    "This value of $k$ will be pre-determined and will serve as an input to this function for scaling the probabilities in your distribution to be developed by this function.\n",
    "\n",
    "4.  Calculate the scaled successor fitness values as follows:\n",
    "\n",
    "$$ \\text{scaled_successors_fitness} = \\frac{\\text{successors_fitness} \\cdot (k-1)}{(x_2 - x_1)} + \\frac{x_2 - k \\cdot x_1}{(x_2 - x_1)} $$\n",
    "\n",
    "where \n",
    "\n",
    "$$x_2 = \\text{max(successors_fitness)}$$\n",
    "and\n",
    "$$x_1 = \\text{min(successors_fitness)}$$\n",
    "\n",
    "This step should yield an n x n ndarray where the following principle holds: \n",
    "\n",
    "$$ \\text{max(successors_fitness)} = k \\times \\text{min(successors_fitness)}$$\n",
    "\n",
    "5.  Build the probabilities by dividing these scaled successor fitness values by their sum.  \n",
    "\n",
    "$$ \\text{probabilities} = \\frac{\\text{scaled_successors_fitness}}{\\text{scaled_successors_fitness.sum()}} $$\n",
    "\n",
    "This yields an n x n ndarray of values between 0 and 1 which serves as the distribution returned by the function.\n",
    "\n",
    "Notice that cells with lower attack pair values will be assigned higher probabilities and vice versa and that the sum of these values is 1 (as required for a probability distribution)."
   ]
  },
  {
   "cell_type": "code",
   "execution_count": 10,
   "metadata": {
    "ExecuteTime": {
     "end_time": "2024-02-23T20:36:21.597977Z",
     "start_time": "2024-02-23T20:36:21.582632Z"
    }
   },
   "outputs": [],
   "source": [
    "def successors_probs(queens, k):\n",
    "    \"\"\"\n",
    "    returns a probability distribution whose values correspond to the attack pair counts for a queens arrangement\n",
    "    that is passed in as an input argument.  That is, cells with lower attack pair counts are assigned higher \n",
    "    probabilities and those with higher counts are assigned lower probabilities.\n",
    "     \n",
    "    Args:\n",
    "      queens ((n, ) ndarray)         : queens assignment on a board\n",
    "      k (scalar)                     : scaling factor for probabilities.  (max_prob = k x min_prob - see above)\n",
    "                                        \n",
    "    Returns\n",
    "      probs ((n**2, ) ndarray)         : 1D array of probs whose length is n**2, giving a probability for each cell \n",
    "                                       in the n x n grid of successors.  \n",
    "    \"\"\"\n",
    "    n = len(queens)\n",
    "    \n",
    "    ### BEGIN CODE HERE\n",
    "    \n",
    "    # Determine the maximum number of attacking pairs possible\n",
    "    max_attack_pairs = n * (n - 1) // 2\n",
    "\n",
    "    # Get the attack pair counts for each successor cell\n",
    "    successors_counts = attack_pairs_board(queens)\n",
    "\n",
    "    # Calculate the fitness for each successor cell\n",
    "    successors_fitness = max_attack_pairs - successors_counts\n",
    "\n",
    "    # Scale the fitness values\n",
    "    x1 = np.min(successors_fitness)\n",
    "    x2 = np.max(successors_fitness)\n",
    "    scaled_successors_fitness = (successors_fitness * (k - 1) / (x2 - x1)) + ((x2 - k * x1) / (x2 - x1))\n",
    "\n",
    "    # Calculate the probabilities\n",
    "    probs = scaled_successors_fitness / np.sum(scaled_successors_fitness)\n",
    "\n",
    "    return probs.flatten()\n",
    "    \n",
    "    \n",
    "    \n",
    "    \n",
    "    \n",
    "    ### END CODE HERE\n",
    "    "
   ]
  },
  {
   "cell_type": "code",
   "execution_count": 11,
   "metadata": {
    "ExecuteTime": {
     "end_time": "2024-02-23T20:36:23.907727Z",
     "start_time": "2024-02-23T20:36:23.894387Z"
    },
    "deletable": false,
    "editable": false
   },
   "outputs": [
    {
     "data": {
      "text/plain": [
       "array([0.01942207, 0.01942207, 0.02392231, 0.00592136, 0.02842255,\n",
       "       0.01942207, 0.02842255, 0.00142113, 0.00142113, 0.01942207,\n",
       "       0.00592136, 0.01492184, 0.01492184, 0.01942207, 0.00592136,\n",
       "       0.0104216 , 0.00592136, 0.00592136, 0.0104216 , 0.00142113,\n",
       "       0.01492184, 0.00592136, 0.01492184, 0.00592136, 0.00592136,\n",
       "       0.01942207, 0.00592136, 0.01492184, 0.00592136, 0.01942207,\n",
       "       0.0104216 , 0.0104216 , 0.01492184, 0.01942207, 0.01942207,\n",
       "       0.00592136, 0.02392231, 0.0104216 , 0.02392231, 0.0104216 ,\n",
       "       0.01942207, 0.02842255, 0.00142113, 0.02392231, 0.01492184,\n",
       "       0.02842255, 0.01942207, 0.01942207, 0.01942207, 0.0104216 ,\n",
       "       0.02392231, 0.01492184, 0.02842255, 0.01942207, 0.02842255,\n",
       "       0.0104216 , 0.00142113, 0.02842255, 0.01942207, 0.02392231,\n",
       "       0.02392231, 0.02842255, 0.01942207, 0.01942207])"
      ]
     },
     "execution_count": 11,
     "metadata": {},
     "output_type": "execute_result"
    }
   ],
   "source": [
    "# UNIT TEST 1 - successors_probs()\n",
    "\n",
    "queens = np.array([3, 2, 1, 4, 3, 2, 1, 2])\n",
    "successors_probs(queens, k=20)"
   ]
  },
  {
   "cell_type": "markdown",
   "metadata": {
    "deletable": false,
    "editable": false
   },
   "source": [
    "**Expected Result:**\n",
    "\n",
    "array([0.01942207, 0.01942207, 0.02392231, 0.00592136, 0.02842255, <br>\n",
    "       0.01942207, 0.02842255, 0.00142113, 0.00142113, 0.01942207, <br>\n",
    "       0.00592136, 0.01492184, 0.01492184, 0.01942207, 0.00592136, <br>\n",
    "       0.0104216 , 0.00592136, 0.00592136, 0.0104216 , 0.00142113, <br>\n",
    "       0.01492184, 0.00592136, 0.01492184, 0.00592136, 0.00592136, <br>\n",
    "       0.01942207, 0.00592136, 0.01492184, 0.00592136, 0.01942207, <br>\n",
    "       0.0104216 , 0.0104216 , 0.01492184, 0.01942207, 0.01942207, <br>\n",
    "       0.00592136, 0.02392231, 0.0104216 , 0.02392231, 0.0104216 , <br>\n",
    "       0.01942207, 0.02842255, 0.00142113, 0.02392231, 0.01492184, <br>\n",
    "       0.02842255, 0.01942207, 0.01942207, 0.01942207, 0.0104216 , <br>\n",
    "       0.02392231, 0.01492184, 0.02842255, 0.01942207, 0.02842255, <br>\n",
    "       0.0104216 , 0.00142113, 0.02842255, 0.01942207, 0.02392231, <br>\n",
    "       0.02392231, 0.02842255, 0.01942207, 0.01942207])"
   ]
  },
  {
   "cell_type": "markdown",
   "metadata": {
    "deletable": false,
    "editable": false
   },
   "source": [
    "<a name=\"2.2\"></a>\n",
    "### 2.2 Exercise - Function Implementation - Stochastic Hill Climbing\n",
    "\n",
    "[20 points]\n",
    "\n",
    "Using the successors_probs() function you created above, you will apply it in the implementation of the stochastic hill climbing algorithm you'll code in the cell below.\n",
    "\n",
    "In stochastic hill climbing, the algorithm picks a successor state based on a probability distribution, not on a steepest ascent metric.  You'll call the successors_probs() function to create a distribution that biases in favor of states that offer larger improvement in the attack_pairs metric, but allows the possibility of a successor with a smaller improvement, or even a negative change.  \n",
    "\n",
    "How to terminate this algorithm?  Allow this function to iterate 1000 times.  If it finds a goal state before that, it should return the goal state queens assignment.  Otherwise, return whatever it has after 1000 iterations.  \n",
    "\n",
    "Notice that we do not stop the algorithm if we hit a local minimum - we simply keep on picking states randomly until we hit a goal or 1000 iterations.\n",
    "\n"
   ]
  },
  {
   "cell_type": "code",
   "execution_count": 12,
   "metadata": {
    "ExecuteTime": {
     "end_time": "2024-02-23T20:33:44.825037Z",
     "start_time": "2024-02-23T20:33:44.810388Z"
    }
   },
   "outputs": [],
   "source": [
    "def stochastic_hill_climb(n, k):\n",
    "    \"\"\"\n",
    "    implements the stochastic hill climbing algorithm, starting with a random queens assignment and repeatedly \n",
    "    picking successor states randomly (according to a probability distribution proportionate to states' fitness\n",
    "    levels) until either a goal state is found (no attacking pairs) or until 1000 iterations have been executed.\n",
    "     \n",
    "    Args:\n",
    "      n  (scalar)                    : size of the board.  In 8-queens, n = 8\n",
    "      k (scalar)                     : scaling factor for probabilities\n",
    "                                        \n",
    "    Returns\n",
    "      attack_pairs (scalar)          : count of attacking pairs of queens when the algorithm is finished (0 if \n",
    "                                       it finds a goal state)\n",
    "      queens ((n, ) ndarray)         : queens assignment when the algorithm is finished\n",
    "    \"\"\"\n",
    "    \n",
    "    \n",
    "    # start with a random assignment of queens on the board.\n",
    "   \n",
    "    queens = np.random.randint(n, size=n)\n",
    "    \n",
    "    ### START CODE HERE\n",
    "\n",
    "    max_iterations = 1000\n",
    "    \n",
    "    \n",
    "    for _ in range(max_iterations):\n",
    "        # Calculate the probability distribution for selecting successors\n",
    "        probs = successors_probs(queens, k)\n",
    "        \n",
    "        # Choose a successor state randomly based on the probability distribution\n",
    "        successor_idx = np.random.choice(np.arange(n*n), p=probs)\n",
    "        successor_queens = queens.copy()\n",
    "        successor_queens[successor_idx // n] = successor_idx % n\n",
    "        \n",
    "        # Update the current state if the successor has fewer attacking pairs\n",
    "        if attack_pairs(successor_queens) < attack_pairs(queens):\n",
    "            queens = successor_queens.copy()\n",
    "            \n",
    "            # Check if the new state is a goal state (no attacking pairs)\n",
    "            if attack_pairs(queens) == 0:\n",
    "                return 0, queens  # Goal state found, return the result\n",
    "    \n",
    "    # Return the current state after 1000 iterations\n",
    "    return attack_pairs(queens), queens\n",
    "\n",
    "\n",
    "    "
   ]
  },
  {
   "cell_type": "code",
   "execution_count": 13,
   "metadata": {
    "ExecuteTime": {
     "end_time": "2024-02-23T20:36:16.728571Z",
     "start_time": "2024-02-23T20:33:48.716786Z"
    },
    "deletable": false,
    "editable": false
   },
   "outputs": [
    {
     "name": "stdout",
     "output_type": "stream",
     "text": [
      "Success: [0 5 7 2 6 3 1 4]\n",
      "Success: [5 2 6 3 0 7 1 4]\n",
      "Success: [2 7 3 6 0 5 1 4]\n",
      "Success: [5 2 6 3 0 7 1 4]\n",
      "Success: [2 6 1 7 5 3 0 4]\n",
      "Success: [4 2 0 5 7 1 3 6]\n",
      "Success: [5 3 6 0 7 1 4 2]\n",
      "Success: [5 2 0 7 4 1 3 6]\n",
      "Success: [2 4 7 3 0 6 1 5]\n",
      "Success: [6 3 1 4 7 0 2 5]\n",
      "Success: [5 1 6 0 2 4 7 3]\n",
      "Success: [4 6 1 3 7 0 2 5]\n",
      "Success: [3 0 4 7 5 2 6 1]\n",
      "Success: [3 7 0 4 6 1 5 2]\n",
      "Success: [4 1 3 6 2 7 5 0]\n",
      "Success: [4 2 7 3 6 0 5 1]\n",
      "\n",
      "Number of successes: 16\n"
     ]
    }
   ],
   "source": [
    "# UNIT TEST 1 - stochastic_hill_climb()\n",
    "\n",
    "# np.random.seed(0)  # reset seed to produce the same set of starting queen assignments with every execution\n",
    "\n",
    "num_successes = 0\n",
    "for i in range(100):\n",
    "    attack_pairs_count, queens = stochastic_hill_climb(n = 8, k = 5000)\n",
    "    if attack_pairs_count == 0:\n",
    "        print(f'Success: {queens}')\n",
    "        num_successes += 1\n",
    "        \n",
    "print(f'\\nNumber of successes: {num_successes}')"
   ]
  },
  {
   "cell_type": "markdown",
   "metadata": {
    "deletable": false,
    "editable": false
   },
   "source": [
    "**Example Result: (your result will likely vary from this):**\n",
    "\n",
    "Success: [5 3 6 0 2 4 1 7] <br>\n",
    "Success: [5 7 1 3 0 6 4 2] <br>\n",
    "Success: [3 0 4 7 1 6 2 5] <br>\n",
    "Success: [7 3 0 2 5 1 6 4] <br>\n",
    "Success: [2 5 1 6 4 0 7 3] <br>\n",
    "Success: [0 6 4 7 1 3 5 2] <br>\n",
    "Success: [2 5 1 6 0 3 7 4] <br>\n",
    "Success: [4 2 0 6 1 7 5 3] <br>\n",
    "Success: [2 0 6 4 7 1 3 5] <br>\n",
    "Success: [2 5 3 1 7 4 6 0] <br>\n",
    "Success: [3 6 4 2 0 5 7 1] <br>\n",
    "Success: [5 2 4 7 0 3 1 6] <br> <br>\n",
    "Number of successes: 12"
   ]
  },
  {
   "cell_type": "markdown",
   "metadata": {
    "deletable": false,
    "editable": false
   },
   "source": [
    "<a name=\"3\"></a>\n",
    "### Problem 3 - First Choice Hill Climbing\n",
    "\n",
    "[30 points]\n",
    "\n",
    "You will implement the first choice hill climbing algorithm in the cells below."
   ]
  },
  {
   "cell_type": "markdown",
   "metadata": {
    "deletable": false,
    "editable": false
   },
   "source": [
    "<a name=\"3.1\"></a>\n",
    "### 3.1 Exercise - Function Implementation - First choice\n",
    "\n",
    "[10 points]\n",
    "\n",
    "Implement the first_choice() function which repeatedly picks successor states until one is found that is better than\n",
    "the current state; that is, has a lower attacking pairs count than that of the current state. \n",
    "\n",
    "This function takes a queens assignment as an input parameter and a scaling factor, k, which gives determines the \n",
    "character of the probability distribution.  \n",
    "\n",
    "**Use the attack_pairs() function, the attack_pairs_board() function, and the successors_probs() functions you implemented above to help you code the implementation for this function.**  The value of k passed in as an input\n",
    "parameter is the parm you'll pass to the successors_probs function.\n",
    "\n",
    "#### first_choice() implementation - Q:  Do we have an infinite loop concern? - A:  No, if instructions are followed...\n",
    "Note that you should **not** need to be concerned with this function, first_choice(), entering an infinite loop because of a possible edge case of queens (the input array) being a local min whose attack_pairs() count is less than all successors.  This is because your first_choice_hill_climb() function (to be implemented next) should only call this\n",
    "function if queens is **not** a local min. \n"
   ]
  },
  {
   "cell_type": "code",
   "execution_count": 14,
   "metadata": {
    "ExecuteTime": {
     "end_time": "2024-02-23T20:36:31.260209Z",
     "start_time": "2024-02-23T20:36:31.251574Z"
    }
   },
   "outputs": [],
   "source": [
    "def first_choice(queens, k):\n",
    "    \"\"\"\n",
    "    returns an index value of a successor state picked randomly, but which offers an improvement in the attack pairs\n",
    "    metric over the current state of the queens assignment passed in as input.  You will use the random.choices()\n",
    "    function to pick a value based on the probability distribution.\n",
    "    Args:\n",
    "      queens ((n, ) ndarray)        : queens assignment on a board\n",
    "      k  (scalar)                   : scaling factor for the probability distribution.  needed by successors_probs()             \n",
    "    Returns\n",
    "      select_index (scalar)         : index value of the cell in the attack_pairs_board(queens) array which gives the \n",
    "                                    successor chosen to the queens array passed in as input.  Note you will need\n",
    "                                    to use the following to map back to a row and index in the 2D attack_pairs_board()\n",
    "                                    array:  row = select_index // n,  column = select_index % n\n",
    "    \"\"\"\n",
    "    \n",
    "    \n",
    "    n = len(queens)\n",
    "    \n",
    "    ### START CODE HERE\n",
    "    \n",
    "    # Determine the maximum number of attacking pairs possible\n",
    "    max_attack_pairs = n * (n - 1) // 2\n",
    "\n",
    "    # Get the attack pair counts for each successor cell\n",
    "    successors_counts = attack_pairs_board(queens)\n",
    "\n",
    "    # Calculate the fitness for each successor cell\n",
    "    successors_fitness = max_attack_pairs - successors_counts\n",
    "\n",
    "    # Scale the fitness values\n",
    "    x1 = np.min(successors_fitness)\n",
    "    x2 = np.max(successors_fitness)\n",
    "    scaled_successors_fitness = (successors_fitness * (k - 1) / (x2 - x1)) + ((x2 - k * x1) / (x2 - x1))\n",
    "\n",
    "    # Calculate the probabilities\n",
    "    probs = scaled_successors_fitness / np.sum(scaled_successors_fitness)\n",
    "\n",
    "    # Flatten the probabilities array\n",
    "    probs_flat = probs.flatten()\n",
    "\n",
    "    # Choose a successor state randomly based on the probability distribution\n",
    "    select_index = np.random.choice(np.arange(n*n), p=probs_flat)\n",
    "\n",
    "    ### END CODE HERE\n",
    "    \n",
    "    return select_index"
   ]
  },
  {
   "cell_type": "code",
   "execution_count": 15,
   "metadata": {
    "ExecuteTime": {
     "end_time": "2024-02-23T20:36:33.728878Z",
     "start_time": "2024-02-23T20:36:33.691577Z"
    },
    "deletable": false,
    "editable": false
   },
   "outputs": [
    {
     "name": "stdout",
     "output_type": "stream",
     "text": [
      "queens: [3 2 1 4 3 2 1 2]\n",
      "attack_pairs(queens): 17\n",
      "select_index: 12\n",
      "row_move: 1\n",
      "col_move: 4\n",
      "queens: [3 2 1 4 1 2 1 2]\n",
      "attack_pairs(queens): 15\n"
     ]
    }
   ],
   "source": [
    "# UNIT TEST 1 - first_choice()\n",
    "\n",
    "# np.random.seed(0)  # reset seed to produce the same set of starting queen assignments with every execution\n",
    "\n",
    "queens = np.array([3, 2, 1, 4, 3, 2, 1, 2])\n",
    "\n",
    "n = len(queens)\n",
    "print(f'queens: {queens}')\n",
    "\n",
    "ap = attack_pairs(queens)\n",
    "print(f'attack_pairs(queens): {ap}')\n",
    "\n",
    "select_index = first_choice(queens, 5)\n",
    "row_move = select_index // n\n",
    "col_move = select_index % n\n",
    "\n",
    "print(f'select_index: {select_index}')\n",
    "print(f'row_move: {row_move}')\n",
    "print(f'col_move: {col_move}')\n",
    "\n",
    "# move to successor state (move queen...)\n",
    "queens[col_move] = row_move\n",
    "print(f'queens: {queens}')\n",
    "\n",
    "ap_new = attack_pairs(queens)\n",
    "print(f'attack_pairs(queens): {ap_new}')"
   ]
  },
  {
   "cell_type": "markdown",
   "metadata": {
    "deletable": false,
    "editable": false
   },
   "source": [
    "**Example Result: (your result will likely vary from this):**\n",
    "\n",
    "queens: [3 2 1 4 3 2 1 2] <br>\n",
    "attack_pairs(queens): 17 <br>\n",
    "select_index: 5 <br>\n",
    "row_move: 0 <br>\n",
    "col_move: 5 <br>\n",
    "queens: [3 2 1 4 3 0 1 2] <br>\n",
    "attack_pairs(queens): 14"
   ]
  },
  {
   "cell_type": "markdown",
   "metadata": {
    "deletable": false,
    "editable": false
   },
   "source": [
    "<a name=\"3.2\"></a>\n",
    "### 3.2 Exercise - Function Implementation - First choice hill climbing\n",
    "\n",
    "[20 points]\n",
    "\n",
    "Implement the first choice hill climbing algorihm in the cell below, utilizing the first_choice() function you coded above for choosing the successor at each step.  \n",
    "\n",
    "Note that your implementation should *test whether the current state is a local min before calling first_choice()*.  This prevents first_choice() from entering an infinite loop, as discussed in the comments to the last exercise.\n",
    "\n",
    "Execute the algo loop 1000 times in your implementation.  If a goal state is found, return the attack pairs count of 0 and the queens assignment.  If no goal state is found, return the attack pairs count and queens assignment at the last step of the algorithm."
   ]
  },
  {
   "cell_type": "code",
   "execution_count": 16,
   "metadata": {
    "ExecuteTime": {
     "end_time": "2024-02-23T20:36:45.600345Z",
     "start_time": "2024-02-23T20:36:45.584775Z"
    }
   },
   "outputs": [],
   "source": [
    "def first_choice_hill_climb(n, k):\n",
    "    \"\"\"\n",
    "    implements the first choice hill climbing algorithm, starting with a random queens assignment and repeatedly \n",
    "    picking successor states using the first choice function until either a goal state is found (no attacking pairs) \n",
    "    or until 1000 iterations have been executed.\n",
    "     \n",
    "    Args:\n",
    "      n  (scalar)                    : size of the board.  In 8-queens, n = 8\n",
    "      k  (scalar)                    : scaling factor for the probability distribution.  needed by successors_probs()             \n",
    "    Returns\n",
    "      attack_pairs (scalar)          : count of attacking pairs of queens when the algorithm is finished (0 if \n",
    "                                       it finds a goal state)\n",
    "      queens ((n, ) ndarray)         : queens assignment when the algorithm is finished\n",
    "    \"\"\"\n",
    "    \n",
    "    # start with a random assignment of queens on the board.\n",
    "    queens = np.random.randint(n, size=n)\n",
    "    \n",
    "    ### START CODE HERE\n",
    "    \n",
    "    # Set maximum number of iterations\n",
    "    max_iterations = 1000\n",
    "    \n",
    "    for _ in range(max_iterations):\n",
    "        # Check if current state is a local min\n",
    "        if attack_pairs(queens) == 0:\n",
    "            return 0, queens  # Goal state found, return the result\n",
    "        \n",
    "        # Use first_choice to pick a successor state\n",
    "        select_index = first_choice(queens, k)\n",
    "        row_move = select_index // n\n",
    "        col_move = select_index % n\n",
    "        \n",
    "        # Move to successor state\n",
    "        queens[col_move] = row_move\n",
    "    \n",
    "    # Return the current state after 1000 iterations\n",
    "    return attack_pairs(queens), queens\n",
    "\n",
    "    \n",
    "    \n",
    "    \n",
    "    \n",
    "    \n",
    "    ### END CODE HERE\n",
    "    \n",
    "\n",
    "\n"
   ]
  },
  {
   "cell_type": "code",
   "execution_count": 17,
   "metadata": {
    "ExecuteTime": {
     "end_time": "2024-02-23T20:39:28.499847Z",
     "start_time": "2024-02-23T20:36:48.749084Z"
    },
    "deletable": false,
    "editable": false
   },
   "outputs": [
    {
     "name": "stdout",
     "output_type": "stream",
     "text": [
      "Success: [1 5 7 2 0 3 6 4]\n",
      "Success: [3 5 0 4 1 7 2 6]\n",
      "Success: [3 5 0 4 1 7 2 6]\n",
      "Success: [5 2 4 7 0 3 1 6]\n",
      "Success: [7 1 3 0 6 4 2 5]\n",
      "Success: [0 6 4 7 1 3 5 2]\n",
      "Success: [4 1 3 5 7 2 0 6]\n",
      "Success: [4 2 0 6 1 7 5 3]\n",
      "\n",
      "Number of successes: 8\n"
     ]
    }
   ],
   "source": [
    "# UNIT TEST 1 - first_choice_hill_climb()\n",
    "\n",
    "# np.random.seed(0)  # reset seed to produce the same set of starting queen assignments with every execution\n",
    "\n",
    "num_successes = 0\n",
    "for i in range(100):\n",
    "    attack_pairs_count, queens = first_choice_hill_climb(n = 8, k = 10)\n",
    "    if attack_pairs_count == 0:\n",
    "        print(f'Success: {queens}')\n",
    "        num_successes += 1\n",
    "print(f'\\nNumber of successes: {num_successes}')"
   ]
  },
  {
   "cell_type": "markdown",
   "metadata": {
    "deletable": false,
    "editable": false
   },
   "source": [
    "**Example Result: (your result will likely vary from this):**\n",
    "\n",
    "Success: [1 7 5 0 2 4 6 3] <br>\n",
    "Success: [4 1 5 0 6 3 7 2] <br>\n",
    "Success: [1 7 5 0 2 4 6 3] <br>\n",
    "Success: [4 1 5 0 6 3 7 2] <br>\n",
    "Success: [4 7 3 0 6 1 5 2] <br>\n",
    "Success: [4 7 3 0 6 1 5 2] <br>\n",
    "Success: [4 1 5 0 6 3 7 2] <br>\n",
    "Success: [4 7 3 0 2 5 1 6] <br>\n",
    "Success: [4 1 5 0 6 3 7 2] <br>\n",
    "Success: [4 1 5 0 6 3 7 2] <br>\n",
    "Success: [4 7 3 0 6 1 5 2] <br>\n",
    "Success: [4 1 5 0 6 3 7 2] <br>\n",
    "Success: [4 1 5 0 6 3 7 2] <br>\n",
    "Success: [4 1 5 0 6 3 7 2] <br>\n",
    "Success: [4 1 5 0 6 3 7 2] <br> <br>\n",
    "\n",
    "Number of successes: 15"
   ]
  },
  {
   "cell_type": "markdown",
   "metadata": {
    "deletable": false,
    "editable": false
   },
   "source": [
    "<a name=\"4\"></a>\n",
    "### Problem 4 - Random Restart Hill Climbing\n",
    "\n",
    "[15 points] \n",
    "\n",
    "You will implement the random restart hill climbing algorithm in the cells below."
   ]
  },
  {
   "cell_type": "markdown",
   "metadata": {
    "deletable": false,
    "editable": false
   },
   "source": [
    "<a name=\"4.1\"></a>\n",
    "### 4.1 Exercise - Function Implementation - Random Restart Hill Climbing\n",
    "\n",
    "[15 points]\n",
    "\n",
    "Random restart hill climbing is essentially repeated executions of the steepest ascent hill climbing algorithm.  Implement this algorithm in the cell below."
   ]
  },
  {
   "cell_type": "code",
   "execution_count": 18,
   "metadata": {},
   "outputs": [],
   "source": [
    "def random_restart_hill_climb(n, attempts):\n",
    "    \"\"\"\n",
    "    implements the random restart hill climbing algorithm, executing the steepest ascent hill climbing algorithm \n",
    "    until a goal state is found or until an attempt limit has been reached.\n",
    "     \n",
    "    Args:\n",
    "      n  (scalar)                    : size of the board.  In 8-queens, n = 8\n",
    "      attempts  (scalar)             : the number of attempts to take at the steepest ascent hill climbing algorithm             \n",
    "    Returns\n",
    "      attack_pairs (scalar)          : count of attacking pairs of queens when the algorithm is finished (0 if \n",
    "                                       it finds a goal state)\n",
    "      queens ((n, ) ndarray)         : queens assignment when the algorithm is finished, goal state if one if found\n",
    "    \"\"\"\n",
    "    \n",
    "    best_ap = 9999\n",
    "    best_queens = np.zeros(8)\n",
    "    \n",
    "    ### START CODE HERE\n",
    "\n",
    "    \n",
    "    for _ in range(attempts):\n",
    "        current_ap, current_queens = steepest_ascent_hill_climb(n)\n",
    "        if current_ap == 0:\n",
    "            return current_ap, current_queens  # Goal state found, return immediately\n",
    "        elif current_ap < best_ap:\n",
    "            best_ap = current_ap\n",
    "            best_queens = current_queens\n",
    "    \n",
    "\n",
    "    \n",
    "    ### END CODE HERE\n",
    "    \n",
    "    return best_ap, best_queens\n"
   ]
  },
  {
   "cell_type": "code",
   "execution_count": 19,
   "metadata": {
    "deletable": false,
    "editable": false
   },
   "outputs": [
    {
     "name": "stdout",
     "output_type": "stream",
     "text": [
      "Success: [4 1 3 6 2 7 5 0]\n",
      "Success: [4 0 7 5 2 6 1 3]\n",
      "Success: [3 6 4 1 5 0 2 7]\n",
      "Success: [2 5 7 0 3 6 4 1]\n",
      "Success: [3 5 0 4 1 7 2 6]\n",
      "Success: [1 3 5 7 2 0 6 4]\n",
      "Success: [6 3 1 4 7 0 2 5]\n",
      "Success: [2 5 3 1 7 4 6 0]\n",
      "Success: [6 4 2 0 5 7 1 3]\n",
      "Success: [6 2 7 1 4 0 5 3]\n",
      "Success: [3 5 7 1 6 0 2 4]\n",
      "Success: [3 1 4 7 5 0 2 6]\n",
      "Success: [6 4 2 0 5 7 1 3]\n",
      "Success: [3 1 7 4 6 0 2 5]\n",
      "Success: [1 7 5 0 2 4 6 3]\n",
      "Success: [0 5 7 2 6 3 1 4]\n",
      "Success: [4 6 0 2 7 5 3 1]\n",
      "Success: [4 6 0 3 1 7 5 2]\n",
      "Success: [4 7 3 0 2 5 1 6]\n",
      "Success: [2 4 7 3 0 6 1 5]\n",
      "Success: [0 5 7 2 6 3 1 4]\n",
      "Success: [3 1 6 2 5 7 4 0]\n",
      "Success: [1 6 4 7 0 3 5 2]\n",
      "Success: [5 0 4 1 7 2 6 3]\n",
      "Success: [2 5 7 1 3 0 6 4]\n",
      "Success: [4 2 0 6 1 7 5 3]\n",
      "Success: [1 6 2 5 7 4 0 3]\n",
      "Success: [4 7 3 0 2 5 1 6]\n",
      "Success: [5 2 6 1 3 7 0 4]\n",
      "Success: [4 7 3 0 6 1 5 2]\n",
      "Success: [5 2 4 7 0 3 1 6]\n",
      "Success: [4 2 0 5 7 1 3 6]\n",
      "Success: [4 7 3 0 2 5 1 6]\n",
      "Success: [3 1 7 5 0 2 4 6]\n",
      "Success: [4 2 0 5 7 1 3 6]\n",
      "Success: [6 2 0 5 7 4 1 3]\n",
      "Success: [3 6 4 2 0 5 7 1]\n",
      "Success: [3 5 7 1 6 0 2 4]\n",
      "Success: [4 0 3 5 7 1 6 2]\n",
      "Success: [1 4 6 0 2 7 5 3]\n",
      "Success: [5 3 1 7 4 6 0 2]\n",
      "Success: [2 4 1 7 5 3 6 0]\n",
      "Success: [5 2 6 3 0 7 1 4]\n",
      "Success: [5 7 1 3 0 6 4 2]\n",
      "Success: [7 1 4 2 0 6 3 5]\n",
      "Success: [3 5 7 2 0 6 4 1]\n",
      "Success: [3 7 4 2 0 6 1 5]\n",
      "Success: [5 3 0 4 7 1 6 2]\n",
      "Success: [0 4 7 5 2 6 1 3]\n",
      "Success: [4 1 3 6 2 7 5 0]\n",
      "Success: [0 6 4 7 1 3 5 2]\n",
      "Success: [2 5 7 0 4 6 1 3]\n",
      "Success: [3 6 0 7 4 1 5 2]\n",
      "Success: [5 2 6 1 3 7 0 4]\n",
      "Success: [6 4 2 0 5 7 1 3]\n",
      "Success: [5 1 6 0 2 4 7 3]\n",
      "Success: [5 7 1 3 0 6 4 2]\n",
      "Success: [4 1 3 5 7 2 0 6]\n",
      "Success: [5 7 1 3 0 6 4 2]\n",
      "Success: [5 2 4 7 0 3 1 6]\n",
      "Success: [4 6 1 3 7 0 2 5]\n",
      "\n",
      "Number of successes: 61\n"
     ]
    }
   ],
   "source": [
    "# UNIT TEST 1 - random_restart_hill_climb()\n",
    "\n",
    "np.random.seed(0)  # reset seed to produce the same set of starting queen assignments with every execution\n",
    "\n",
    "num_successes = 0\n",
    "for i in range(100):\n",
    "    attack_pairs_count, queens = random_restart_hill_climb(n = 8, attempts=7)\n",
    "    if attack_pairs_count == 0:\n",
    "        print(f'Success: {queens}')\n",
    "        num_successes += 1\n",
    "print(f'\\nNumber of successes: {num_successes}')"
   ]
  },
  {
   "cell_type": "markdown",
   "metadata": {
    "deletable": false,
    "editable": false
   },
   "source": [
    "**Expected Result:**\n",
    "\n",
    "Success: [6 0 2 7 5 3 1 4] <br>\n",
    "Success: [2 6 1 7 5 3 0 4] <br>\n",
    "Success: [4 1 3 6 2 7 5 0] <br>\n",
    "Success: [4 0 7 5 2 6 1 3] <br>\n",
    "Success: [3 7 4 2 0 6 1 5] <br>\n",
    "Success: [3 5 0 4 1 7 2 6] <br>\n",
    "Success: [1 3 5 7 2 0 6 4] <br>\n",
    "Success: [2 5 3 1 7 4 6 0] <br>\n",
    "Success: [6 4 2 0 5 7 1 3] <br>\n",
    "Success: [6 2 7 1 4 0 5 3] <br>\n",
    "Success: [3 5 7 1 6 0 2 4] <br>\n",
    "Success: [3 1 4 7 5 0 2 6] <br>\n",
    "Success: [3 1 7 4 6 0 2 5] <br>\n",
    "Success: [1 7 5 0 2 4 6 3] <br>\n",
    "Success: [0 5 7 2 6 3 1 4] <br>\n",
    "Success: [4 6 0 2 7 5 3 1] <br>\n",
    "Success: [4 7 3 0 2 5 1 6] <br>\n",
    "Success: [0 5 7 2 6 3 1 4] <br>\n",
    "Success: [3 1 6 2 5 7 4 0] <br>\n",
    "Success: [1 4 6 0 2 7 5 3] <br>\n",
    "Success: [1 6 4 7 0 3 5 2] <br>\n",
    "Success: [5 0 4 1 7 2 6 3] <br>\n",
    "Success: [2 5 7 1 3 0 6 4] <br>\n",
    "Success: [4 2 0 6 1 7 5 3] <br>\n",
    "Success: [1 6 2 5 7 4 0 3] <br>\n",
    "Success: [1 5 7 2 0 3 6 4] <br>\n",
    "Success: [5 2 6 1 3 7 0 4] <br>\n",
    "Success: [4 7 3 0 6 1 5 2] <br>\n",
    "Success: [2 6 1 7 4 0 3 5] <br>\n",
    "Success: [5 2 4 7 0 3 1 6] <br>\n",
    "Success: [3 1 7 4 6 0 2 5] <br>\n",
    "Success: [4 7 3 0 2 5 1 6] <br>\n",
    "Success: [3 1 7 5 0 2 4 6] <br>\n",
    "Success: [4 2 0 5 7 1 3 6] <br>\n",
    "Success: [3 7 0 4 6 1 5 2] <br>\n",
    "Success: [6 2 0 5 7 4 1 3] <br>\n",
    "Success: [3 6 4 2 0 5 7 1] <br>\n",
    "Success: [1 4 6 0 2 7 5 3] <br>\n",
    "Success: [4 1 7 0 3 6 2 5] <br>\n",
    "Success: [2 5 1 6 0 3 7 4] <br>\n",
    "Success: [5 7 1 3 0 6 4 2] <br>\n",
    "Success: [4 6 0 3 1 7 5 2] <br>\n",
    "Success: [0 4 7 5 2 6 1 3] <br>\n",
    "Success: [4 1 3 6 2 7 5 0] <br>\n",
    "Success: [0 6 4 7 1 3 5 2] <br>\n",
    "Success: [2 5 7 0 4 6 1 3] <br>\n",
    "Success: [3 6 0 7 4 1 5 2] <br>\n",
    "Success: [5 2 6 1 3 7 0 4] <br>\n",
    "Success: [6 4 2 0 5 7 1 3] <br>\n",
    "Success: [1 4 6 0 2 7 5 3] <br>\n",
    "Success: [5 1 6 0 2 4 7 3] <br>\n",
    "Success: [5 7 1 3 0 6 4 2] <br>\n",
    "Success: [4 1 3 5 7 2 0 6] <br>\n",
    "Success: [5 7 1 3 0 6 4 2] <br>\n",
    "Success: [5 2 4 7 0 3 1 6] <br>\n",
    "Success: [5 1 6 0 2 4 7 3] <br>\n",
    "Success: [5 1 6 0 2 4 7 3] <br>\n",
    "Success: [1 7 5 0 2 4 6 3] <br> <br>\n",
    "\n",
    "Number of successes: 58"
   ]
  },
  {
   "cell_type": "markdown",
   "metadata": {
    "deletable": false,
    "editable": false
   },
   "source": [
    "<a name=\"5\"></a>\n",
    "## 5 Congratulations!\n",
    "In this lab you:\n",
    "- implemented four significant local search, hill climbing algorithms - steepest ascent, stochastic, first choice, and randomized restart."
   ]
  },
  {
   "cell_type": "code",
   "execution_count": 20,
   "metadata": {
    "ExecuteTime": {
     "end_time": "2024-02-23T21:28:27.198920Z",
     "start_time": "2024-02-23T21:28:27.176339Z"
    },
    "collapsed": false,
    "jupyter": {
     "outputs_hidden": false
    }
   },
   "outputs": [
    {
     "data": {
      "text/plain": [
       "\"Some of my results vary from the expected (such as my steepest ascent hill climbing algorithm). When I manually checked the attacking pairs of queens with inconsistent board results, the attack_pairs function returned a cost of 0. With this I'm assuming that it's simply a matter of what board the hill climbing algorithm tests first to reach a min. This also must have affected my random restart hill climbing algorithm, but overall the functionality of all my algorithms is there.\""
      ]
     },
     "execution_count": 20,
     "metadata": {},
     "output_type": "execute_result"
    }
   ],
   "source": [
    "\"\"\"Some of my results vary from the expected (such as my steepest ascent hill climbing algorithm). When I manually checked the attacking pairs of queens with inconsistent board results, the attack_pairs function returned a cost of 0. With this I'm assuming that it's simply a matter of what board the hill climbing algorithm tests first to reach a min. This also must have affected my random restart hill climbing algorithm, but overall the functionality of all my algorithms is there.\"\"\""
   ]
  },
  {
   "cell_type": "code",
   "execution_count": null,
   "metadata": {
    "collapsed": false,
    "jupyter": {
     "outputs_hidden": false
    }
   },
   "outputs": [],
   "source": []
  }
 ],
 "metadata": {
  "kernelspec": {
   "display_name": "Python 3 (ipykernel)",
   "language": "python",
   "name": "python3"
  },
  "language_info": {
   "codemirror_mode": {
    "name": "ipython",
    "version": 3
   },
   "file_extension": ".py",
   "mimetype": "text/x-python",
   "name": "python",
   "nbconvert_exporter": "python",
   "pygments_lexer": "ipython3",
   "version": "3.9.16"
  }
 },
 "nbformat": 4,
 "nbformat_minor": 4
}
